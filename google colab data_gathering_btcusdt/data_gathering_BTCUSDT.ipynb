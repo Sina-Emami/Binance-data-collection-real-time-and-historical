{
  "nbformat": 4,
  "nbformat_minor": 0,
  "metadata": {
    "colab": {
      "name": "data_gathering_BTCUSDT.ipynb",
      "provenance": [],
      "collapsed_sections": []
    },
    "kernelspec": {
      "name": "python3",
      "display_name": "Python 3"
    }
  },
  "cells": [
    {
      "cell_type": "code",
      "metadata": {
        "id": "jTpqN17VfQqo"
      },
      "source": [
        "pip install python-binance"
      ],
      "execution_count": null,
      "outputs": []
    },
    {
      "cell_type": "code",
      "metadata": {
        "id": "OkDSYzWp4q4r"
      },
      "source": [
        "pip install websocket_client"
      ],
      "execution_count": null,
      "outputs": []
    },
    {
      "cell_type": "code",
      "metadata": {
        "id": "4pn1dImEfTni"
      },
      "source": [
        "from binance.client import Client\r\n",
        "from binance.websockets import BinanceSocketManager\r\n",
        "import pandas as pd\r\n",
        "import numpy as np\r\n",
        "import websocket\r\n",
        "import json\r\n",
        "import pprint\r\n",
        "from datetime import timedelta, datetime\r\n",
        "\r\n"
      ],
      "execution_count": null,
      "outputs": []
    },
    {
      "cell_type": "code",
      "metadata": {
        "id": "APmDyoxL4_WM"
      },
      "source": [
        "# Initialize our client and pass through the API key and secret\r\n",
        "api_key = input(\"enter your public API key: \")\r\n",
        "api_secret = input(\"enter your secret API key:\")\r\n",
        "\r\n",
        "client = Client(api_key, api_secret)\r\n"
      ],
      "execution_count": null,
      "outputs": []
    },
    {
      "cell_type": "markdown",
      "metadata": {
        "id": "h9fog6F5f-x3"
      },
      "source": [
        "**Last 24 hour**"
      ]
    },
    {
      "cell_type": "code",
      "metadata": {
        "id": "R7A5R8yefefQ"
      },
      "source": [
        "def timestamp_N_days_ago(N=1):\r\n",
        "    '''\r\n",
        "    gets number of days and return the timestamp of n days ago\r\n",
        "    parametr: int(number of days)\r\n",
        "    return: timestamp\r\n",
        "    '''   \r\n",
        "    date_N_days_ago = datetime.now() - timedelta(days=N)\r\n",
        "    date_N_days_ago_timestamp = date_N_days_ago.timestamp()\r\n",
        "    return date_N_days_ago_timestamp\r\n",
        "\r\n",
        "\r\n",
        "def convert_dataframe(data):\r\n",
        "    '''\r\n",
        "    convert 2d array with timstamp column in to datafram with date and time column\r\n",
        "    parametr: 2d array\r\n",
        "    return: datafram\r\n",
        "    '''\r\n",
        "    btc_df = pd.DataFrame(data, columns=['close_price', 'close_time'])\r\n",
        "    btc_df['close_time'] = pd.to_datetime(btc_df['close_time'], unit='ms')\r\n",
        "    return btc_df\r\n",
        "\r\n",
        "\r\n",
        "bars = client.get_historical_klines('BTCUSDT', '1m', \r\n",
        "                                    str(timestamp_N_days_ago(1)), \r\n",
        "                                    limit=1000)\r\n",
        "\r\n",
        "bars_arr = np.array(bars)\r\n",
        "\r\n",
        "#select only close time and close price\r\n",
        "bars_arr = bars_arr[:,[4,6]]\r\n",
        "btc_24h_ago_df = convert_dataframe(bars_arr)\r\n",
        "\r\n",
        "#write them on excel\r\n",
        "btc_24h_ago_df.to_excel('BTCUSDT_24h_ago.xlsx')\r\n"
      ],
      "execution_count": null,
      "outputs": []
    },
    {
      "cell_type": "code",
      "metadata": {
        "colab": {
          "base_uri": "https://localhost:8080/",
          "height": 419
        },
        "id": "Ztd5BJGjh4d7",
        "outputId": "ece528ee-1e16-49e9-d326-56c4a7eafd11"
      },
      "source": [
        "print(btc_24h_ago_df)\r\n"
      ],
      "execution_count": null,
      "outputs": [
        {
          "output_type": "execute_result",
          "data": {
            "text/html": [
              "<div>\n",
              "<style scoped>\n",
              "    .dataframe tbody tr th:only-of-type {\n",
              "        vertical-align: middle;\n",
              "    }\n",
              "\n",
              "    .dataframe tbody tr th {\n",
              "        vertical-align: top;\n",
              "    }\n",
              "\n",
              "    .dataframe thead th {\n",
              "        text-align: right;\n",
              "    }\n",
              "</style>\n",
              "<table border=\"1\" class=\"dataframe\">\n",
              "  <thead>\n",
              "    <tr style=\"text-align: right;\">\n",
              "      <th></th>\n",
              "      <th>close_price</th>\n",
              "      <th>close_time</th>\n",
              "    </tr>\n",
              "  </thead>\n",
              "  <tbody>\n",
              "    <tr>\n",
              "      <th>0</th>\n",
              "      <td>46547.50000000</td>\n",
              "      <td>2021-02-12 14:59:59.999</td>\n",
              "    </tr>\n",
              "    <tr>\n",
              "      <th>1</th>\n",
              "      <td>46725.66000000</td>\n",
              "      <td>2021-02-12 15:00:59.999</td>\n",
              "    </tr>\n",
              "    <tr>\n",
              "      <th>2</th>\n",
              "      <td>46715.50000000</td>\n",
              "      <td>2021-02-12 15:01:59.999</td>\n",
              "    </tr>\n",
              "    <tr>\n",
              "      <th>3</th>\n",
              "      <td>46684.84000000</td>\n",
              "      <td>2021-02-12 15:02:59.999</td>\n",
              "    </tr>\n",
              "    <tr>\n",
              "      <th>4</th>\n",
              "      <td>46680.40000000</td>\n",
              "      <td>2021-02-12 15:03:59.999</td>\n",
              "    </tr>\n",
              "    <tr>\n",
              "      <th>...</th>\n",
              "      <td>...</td>\n",
              "      <td>...</td>\n",
              "    </tr>\n",
              "    <tr>\n",
              "      <th>1435</th>\n",
              "      <td>46884.29000000</td>\n",
              "      <td>2021-02-13 14:54:59.999</td>\n",
              "    </tr>\n",
              "    <tr>\n",
              "      <th>1436</th>\n",
              "      <td>46918.15000000</td>\n",
              "      <td>2021-02-13 14:55:59.999</td>\n",
              "    </tr>\n",
              "    <tr>\n",
              "      <th>1437</th>\n",
              "      <td>46972.76000000</td>\n",
              "      <td>2021-02-13 14:56:59.999</td>\n",
              "    </tr>\n",
              "    <tr>\n",
              "      <th>1438</th>\n",
              "      <td>46989.20000000</td>\n",
              "      <td>2021-02-13 14:57:59.999</td>\n",
              "    </tr>\n",
              "    <tr>\n",
              "      <th>1439</th>\n",
              "      <td>46978.76000000</td>\n",
              "      <td>2021-02-13 14:58:59.999</td>\n",
              "    </tr>\n",
              "  </tbody>\n",
              "</table>\n",
              "<p>1440 rows × 2 columns</p>\n",
              "</div>"
            ],
            "text/plain": [
              "         close_price              close_time\n",
              "0     46547.50000000 2021-02-12 14:59:59.999\n",
              "1     46725.66000000 2021-02-12 15:00:59.999\n",
              "2     46715.50000000 2021-02-12 15:01:59.999\n",
              "3     46684.84000000 2021-02-12 15:02:59.999\n",
              "4     46680.40000000 2021-02-12 15:03:59.999\n",
              "...              ...                     ...\n",
              "1435  46884.29000000 2021-02-13 14:54:59.999\n",
              "1436  46918.15000000 2021-02-13 14:55:59.999\n",
              "1437  46972.76000000 2021-02-13 14:56:59.999\n",
              "1438  46989.20000000 2021-02-13 14:57:59.999\n",
              "1439  46978.76000000 2021-02-13 14:58:59.999\n",
              "\n",
              "[1440 rows x 2 columns]"
            ]
          },
          "metadata": {
            "tags": []
          },
          "execution_count": 6
        }
      ]
    },
    {
      "cell_type": "markdown",
      "metadata": {
        "id": "2OPr6-Jg5hjB"
      },
      "source": [
        "**24 hours real time**"
      ]
    },
    {
      "cell_type": "code",
      "metadata": {
        "id": "bnlot8Qmistx",
        "colab": {
          "base_uri": "https://localhost:8080/"
        },
        "outputId": "9a94e0e7-1b24-444e-df61-e1711bf0c6bf"
      },
      "source": [
        "#set the timestmp for 24 hour later for closing the stream\r\n",
        "tmiestamp_close_ws = datetime.now() + timedelta(hours=24)\r\n",
        "\r\n",
        "#the stream wss\r\n",
        "SOCKET = \"wss://stream.binance.com:9443/ws/btcusdt@kline_1m\"\r\n",
        "\r\n",
        "close_price = []\r\n",
        "close_timestamp = []\r\n",
        "\r\n",
        "\r\n",
        "def on_open(ws):\r\n",
        "    print('opened connection')\r\n",
        "\r\n",
        "\r\n",
        "def on_close(ws):\r\n",
        "    print('closed connection')\r\n",
        "\r\n",
        "\r\n",
        "def on_message(ws, message):\r\n",
        "    #print('received message')\r\n",
        "    json_message = json.loads(message)\r\n",
        "    #pprint.pprint(json_message)\r\n",
        "\r\n",
        "    candle = json_message['k']\r\n",
        "\r\n",
        "    is_candle_close = candle['x']\r\n",
        "    close_p = candle['c']\r\n",
        "    close_t = candle['T']\r\n",
        "\r\n",
        "    if is_candle_close:\r\n",
        "        close_price.append(float(close_p))\r\n",
        "        close_timestamp.append(close_t)\r\n",
        "        \r\n",
        "        \r\n",
        "\r\n",
        "        if tmiestamp_close_ws <= datetime.now() :\r\n",
        "            ws.close()\r\n",
        "\r\n",
        "\r\n",
        "ws = websocket.WebSocketApp(SOCKET, on_open=on_open,\r\n",
        "                            on_close=on_close,\r\n",
        "                            on_message=on_message)\r\n",
        "\r\n",
        "ws.run_forever()\r\n"
      ],
      "execution_count": null,
      "outputs": [
        {
          "output_type": "stream",
          "text": [
            "opened connection\n"
          ],
          "name": "stdout"
        }
      ]
    },
    {
      "cell_type": "code",
      "metadata": {
        "id": "ug_RSx0_50XH"
      },
      "source": [
        "close_candle = []\r\n",
        "#Convert 2 list in to 2d array\r\n",
        "for i in range(len(close_price)): \r\n",
        "    close_candle.append([close_price[i], close_timestamp[i]])\r\n",
        "\r\n",
        "btc_24h_real_time_df = convert_dataframe(close_candle)\r\n",
        "print(btc_24h_real_time_df)\r\n"
      ],
      "execution_count": null,
      "outputs": []
    },
    {
      "cell_type": "code",
      "metadata": {
        "id": "Imvxbfp86H_3"
      },
      "source": [
        "#write them on excel\r\n",
        "btc_24h_real_time_df.to_excel('BTCUSDT_24h_real_time.xlsx')"
      ],
      "execution_count": null,
      "outputs": []
    }
  ]
}